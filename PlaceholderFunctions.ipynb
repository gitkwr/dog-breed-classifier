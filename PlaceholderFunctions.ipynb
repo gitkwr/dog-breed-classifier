{
 "cells": [
  {
   "cell_type": "code",
   "execution_count": 1,
   "metadata": {
    "collapsed": false,
    "deletable": true,
    "editable": true
   },
   "outputs": [],
   "source": [
    "import pandas as pd, numpy as np, random\n",
    "from glob import glob"
   ]
  },
  {
   "cell_type": "code",
   "execution_count": 2,
   "metadata": {
    "collapsed": false,
    "deletable": true,
    "editable": true
   },
   "outputs": [],
   "source": [
    "img_path = 'images/Welsh_springer_spaniel_08203.jpg'\n",
    "dog_names = [item[20:-1] for item in sorted(glob(\"dogImages/train/*/\"))]\n",
    "dog_names_dict = {int(item[16:19])-1: item[20:-1].replace('_',' ').title() for item in sorted(glob(\"dogImages/train/*/\"))}"
   ]
  },
  {
   "cell_type": "code",
   "execution_count": 3,
   "metadata": {
    "collapsed": false,
    "deletable": true,
    "editable": true
   },
   "outputs": [],
   "source": [
    "def detect_number_of_human_faces(img_path):\n",
    "    return random.randint(0,2)\n",
    "\n",
    "def get_dog_probabilities(img_path):\n",
    "    '''Take the path to an image and return a probability vector of predicted dog breeds.\n",
    "    The dog with the highest predicted probability is the moest likely breed and so on and so forth.\n",
    "    The output is in the form of sorted list.'''\n",
    "    dog_probabilities = sorted(list(zip(np.random.rand(len(dog_names)),dog_names)), reverse=True)\n",
    "    return dog_probabilities"
   ]
  }
 ],
 "metadata": {
  "kernelspec": {
   "display_name": "Python [default]",
   "language": "python",
   "name": "python3"
  },
  "language_info": {
   "codemirror_mode": {
    "name": "ipython",
    "version": 3
   },
   "file_extension": ".py",
   "mimetype": "text/x-python",
   "name": "python",
   "nbconvert_exporter": "python",
   "pygments_lexer": "ipython3",
   "version": "3.6.0"
  }
 },
 "nbformat": 4,
 "nbformat_minor": 2
}
